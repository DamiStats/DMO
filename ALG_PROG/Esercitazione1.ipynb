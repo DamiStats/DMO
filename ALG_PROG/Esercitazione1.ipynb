{
 "cells": [
  {
   "cell_type": "markdown",
   "metadata": {},
   "source": [
    "# Dai il risultato di una somma di un numero dato più tutti i precedenti"
   ]
  },
  {
   "cell_type": "code",
   "execution_count": 1,
   "metadata": {},
   "outputs": [],
   "source": [
    "def somma_(n):\n",
    "    sommatoria = 0\n",
    "    for i in range(1,n+1):\n",
    "        sommatoria = sommatoria + i\n",
    "        \n",
    "    return(sommatoria)"
   ]
  },
  {
   "cell_type": "code",
   "execution_count": 2,
   "metadata": {},
   "outputs": [
    {
     "name": "stdout",
     "output_type": "stream",
     "text": [
      "6\n"
     ]
    }
   ],
   "source": [
    "print(somma_(3))\n"
   ]
  },
  {
   "cell_type": "markdown",
   "metadata": {},
   "source": [
    "# Facciamo un benchmark"
   ]
  },
  {
   "cell_type": "code",
   "execution_count": 28,
   "metadata": {},
   "outputs": [],
   "source": [
    "import time\n",
    "def somma_(n):\n",
    "    start = time.time()\n",
    "    sommatoria = 0\n",
    "    for i in range(1,n+1):\n",
    "        sommatoria = sommatoria + i\n",
    "    end = time.time()\n",
    "    benchmark = [sommatoria, end-start]\n",
    "    return(benchmark)"
   ]
  },
  {
   "cell_type": "code",
   "execution_count": 34,
   "metadata": {},
   "outputs": [
    {
     "data": {
      "text/plain": [
       "[[1, 1.9073486328125e-06],\n",
       " [3, 7.152557373046875e-07],\n",
       " [6, 7.152557373046875e-07],\n",
       " [10, 4.76837158203125e-07],\n",
       " [15, 4.76837158203125e-07],\n",
       " [21, 4.76837158203125e-07],\n",
       " [28, 4.76837158203125e-07],\n",
       " [36, 9.5367431640625e-07],\n",
       " [45, 4.76837158203125e-07],\n",
       " [55, 4.76837158203125e-07],\n",
       " [66, 9.5367431640625e-07],\n",
       " [78, 7.152557373046875e-07],\n",
       " [91, 7.152557373046875e-07],\n",
       " [105, 9.5367431640625e-07],\n",
       " [120, 9.5367431640625e-07],\n",
       " [136, 1.1920928955078125e-06],\n",
       " [153, 9.5367431640625e-07],\n",
       " [171, 9.5367431640625e-07],\n",
       " [190, 9.5367431640625e-07],\n",
       " [210, 1.1920928955078125e-06],\n",
       " [231, 1.1920928955078125e-06],\n",
       " [253, 9.5367431640625e-07],\n",
       " [276, 1.430511474609375e-06],\n",
       " [300, 9.5367431640625e-07],\n",
       " [325, 1.430511474609375e-06],\n",
       " [351, 1.1920928955078125e-06],\n",
       " [378, 1.430511474609375e-06],\n",
       " [406, 1.1920928955078125e-06],\n",
       " [435, 1.430511474609375e-06],\n",
       " [465, 1.1920928955078125e-06],\n",
       " [496, 1.6689300537109375e-06],\n",
       " [528, 1.430511474609375e-06],\n",
       " [561, 1.6689300537109375e-06],\n",
       " [595, 1.1920928955078125e-06],\n",
       " [630, 1.6689300537109375e-06],\n",
       " [666, 1.430511474609375e-06],\n",
       " [703, 1.6689300537109375e-06],\n",
       " [741, 1.9073486328125e-06],\n",
       " [780, 1.430511474609375e-06],\n",
       " [820, 1.6689300537109375e-06],\n",
       " [861, 1.9073486328125e-06],\n",
       " [903, 1.6689300537109375e-06],\n",
       " [946, 1.9073486328125e-06],\n",
       " [990, 1.6689300537109375e-06],\n",
       " [1035, 1.9073486328125e-06],\n",
       " [1081, 2.1457672119140625e-06],\n",
       " [1128, 2.1457672119140625e-06],\n",
       " [1176, 1.9073486328125e-06],\n",
       " [1225, 1.9073486328125e-06],\n",
       " [1275, 2.1457672119140625e-06],\n",
       " [1326, 2.86102294921875e-06],\n",
       " [1378, 1.9073486328125e-06],\n",
       " [1431, 2.1457672119140625e-06],\n",
       " [1485, 2.384185791015625e-06],\n",
       " [1540, 2.384185791015625e-06],\n",
       " [1596, 2.384185791015625e-06],\n",
       " [1653, 2.1457672119140625e-06],\n",
       " [1711, 2.6226043701171875e-06],\n",
       " [1770, 2.6226043701171875e-06],\n",
       " [1830, 2.6226043701171875e-06],\n",
       " [1891, 2.6226043701171875e-06],\n",
       " [1953, 2.6226043701171875e-06],\n",
       " [2016, 2.86102294921875e-06],\n",
       " [2080, 2.86102294921875e-06],\n",
       " [2145, 2.86102294921875e-06],\n",
       " [2211, 2.86102294921875e-06],\n",
       " [2278, 2.384185791015625e-06],\n",
       " [2346, 2.86102294921875e-06],\n",
       " [2415, 2.6226043701171875e-06],\n",
       " [2485, 2.6226043701171875e-06],\n",
       " [2556, 3.0994415283203125e-06],\n",
       " [2628, 3.0994415283203125e-06],\n",
       " [2701, 3.0994415283203125e-06],\n",
       " [2775, 3.0994415283203125e-06],\n",
       " [2850, 3.0994415283203125e-06],\n",
       " [2926, 2.86102294921875e-06],\n",
       " [3003, 3.0994415283203125e-06],\n",
       " [3081, 3.0994415283203125e-06],\n",
       " [3160, 3.337860107421875e-06],\n",
       " [3240, 3.337860107421875e-06],\n",
       " [3321, 3.0994415283203125e-06],\n",
       " [3403, 3.5762786865234375e-06],\n",
       " [3486, 3.337860107421875e-06],\n",
       " [3570, 3.337860107421875e-06],\n",
       " [3655, 3.5762786865234375e-06],\n",
       " [3741, 3.5762786865234375e-06],\n",
       " [3828, 3.5762786865234375e-06],\n",
       " [3916, 3.5762786865234375e-06],\n",
       " [4005, 3.5762786865234375e-06],\n",
       " [4095, 3.5762786865234375e-06],\n",
       " [4186, 3.5762786865234375e-06],\n",
       " [4278, 3.814697265625e-06],\n",
       " [4371, 3.5762786865234375e-06],\n",
       " [4465, 3.814697265625e-06],\n",
       " [4560, 3.814697265625e-06],\n",
       " [4656, 3.814697265625e-06],\n",
       " [4753, 4.0531158447265625e-06],\n",
       " [4851, 4.0531158447265625e-06],\n",
       " [4950, 4.0531158447265625e-06]]"
      ]
     },
     "execution_count": 34,
     "metadata": {},
     "output_type": "execute_result"
    }
   ],
   "source": [
    "bench = []\n",
    "for i in range(1, 100):\n",
    "    #print(somma_(i+1))\n",
    "    c = somma_(i)\n",
    "    bench.append(c)\n",
    "\n",
    "bench"
   ]
  },
  {
   "cell_type": "markdown",
   "metadata": {},
   "source": [
    "# Split and Join"
   ]
  },
  {
   "cell_type": "code",
   "execution_count": 35,
   "metadata": {},
   "outputs": [
    {
     "name": "stdout",
     "output_type": "stream",
     "text": [
      "['The', 'rain', 'in', 'Spain...']\n"
     ]
    }
   ],
   "source": [
    "song = \"The rain in Spain...\"\n",
    "wds = song.split()\n",
    "print(wds)"
   ]
  },
  {
   "cell_type": "code",
   "execution_count": 39,
   "metadata": {},
   "outputs": [
    {
     "name": "stdout",
     "output_type": "stream",
     "text": [
      "red;blue;green\n",
      "['red', 'blue', 'green']\n",
      "red***blue***green\n",
      "redbluegreen\n"
     ]
    }
   ],
   "source": [
    "wds = [\"red\", \"blue\", \"green\"]\n",
    "glue = ';'\n",
    "s = glue.join(wds)\n",
    "print(s)\n",
    "print(wds)\n",
    "\n",
    "print(\"***\".join(wds))\n",
    "print(\"\".join(wds))"
   ]
  },
  {
   "cell_type": "markdown",
   "metadata": {},
   "source": [
    "# Ask the user for the time now (in hours), and then ask for the number of hours to wait for the alarm. Your program should output what the time will be on the clock when the alarm goes off.\n",
    "\n"
   ]
  },
  {
   "cell_type": "code",
   "execution_count": null,
   "metadata": {},
   "outputs": [],
   "source": []
  }
 ],
 "metadata": {
  "kernelspec": {
   "display_name": "Python 3",
   "language": "python",
   "name": "python3"
  },
  "language_info": {
   "codemirror_mode": {
    "name": "ipython",
    "version": 3
   },
   "file_extension": ".py",
   "mimetype": "text/x-python",
   "name": "python",
   "nbconvert_exporter": "python",
   "pygments_lexer": "ipython3",
   "version": "3.6.9"
  }
 },
 "nbformat": 4,
 "nbformat_minor": 2
}
