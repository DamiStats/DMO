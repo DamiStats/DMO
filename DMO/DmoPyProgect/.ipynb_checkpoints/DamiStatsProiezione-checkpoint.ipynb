{
 "cells": [
  {
   "cell_type": "markdown",
   "metadata": {},
   "source": [
    "# Coronavirus.-Il-rischio-del-menefreghismo\n",
    "Stamattina mi sono svegliato con una domanda in testa. Mi domandavo: le misure del governo riguardo il coronavirus sono davvero necessarie o giustificate? Di seguito la mia umile e semplice risposta"
   ]
  },
  {
   "cell_type": "markdown",
   "metadata": {},
   "source": [
    "# Obiettivo: Simulare tre scenari di diffusione del contagio il cui tasso si aggira (tra 1.5 e 3.5); e un tasso di mortalità del 6%\n",
    "\n",
    "Fonti per tasso contagio : \n",
    "- http://www.ansa.it/canale_scienza_tecnica/notizie/biotech/2020/01/28/virus-cina-il-tasso-di-diffusione-e-simile-a-quello-della-sars-_f21b531a-b766-4cba-a3bd-043b97306823.html\n",
    "\n",
    "- https://statistichecoronavirus.it/\n",
    "\n",
    "L'obiettivo è simulare quanti giorni ci metterà il virus a infettare tutta la popolazione italiana se non si fa prevenzione.\n",
    "La simulazione avviene attraverso la conoscenza dei seguenti dati:\n",
    "- popolazione italiana al 2020 (60461827)\n",
    "- tasso di contagio (tra 1.5 e 3.5)\n",
    "- tasso di mortalità sui contagiati (2%)\n"
   ]
  },
  {
   "cell_type": "markdown",
   "metadata": {},
   "source": [
    "# Scenario Buono (tasso di contagio a 1.5) "
   ]
  },
  {
   "cell_type": "code",
   "execution_count": 2,
   "metadata": {},
   "outputs": [
    {
     "name": "stdout",
     "output_type": "stream",
     "text": [
      "Giorno 1    contagi  2  morti   0\n",
      "Giorno 2    contagi  2  morti   0\n",
      "Giorno 3    contagi  3  morti   0\n",
      "Giorno 4    contagi  5  morti   0\n",
      "Giorno 5    contagi  8  morti   0\n",
      "Giorno 6    contagi  11  morti   1\n",
      "Giorno 7    contagi  17  morti   1\n",
      "Giorno 8    contagi  26  morti   2\n",
      "Giorno 9    contagi  38  morti   2\n",
      "Giorno 10    contagi  58  morti   3\n",
      "Giorno 11    contagi  86  morti   5\n",
      "Giorno 12    contagi  130  morti   8\n",
      "Giorno 13    contagi  195  morti   12\n",
      "Giorno 14    contagi  292  morti   18\n",
      "Giorno 15    contagi  438  morti   26\n",
      "Giorno 16    contagi  657  morti   39\n",
      "Giorno 17    contagi  985  morti   59\n",
      "Giorno 18    contagi  1478  morti   89\n",
      "Giorno 19    contagi  2217  morti   133\n",
      "Giorno 20    contagi  3325  morti   200\n",
      "Giorno 21    contagi  4988  morti   299\n",
      "Giorno 22    contagi  7482  morti   449\n",
      "Giorno 23    contagi  11223  morti   673\n",
      "Giorno 24    contagi  16834  morti   1010\n",
      "Giorno 25    contagi  25251  morti   1515\n",
      "Giorno 26    contagi  37877  morti   2273\n",
      "Giorno 27    contagi  56815  morti   3409\n",
      "Giorno 28    contagi  85223  morti   5113\n",
      "Giorno 29    contagi  127834  morti   7670\n",
      "Giorno 30    contagi  191751  morti   11505\n",
      "Giorno 31    contagi  287627  morti   17258\n",
      "Giorno 32    contagi  431440  morti   25886\n",
      "Giorno 33    contagi  647160  morti   38830\n",
      "Giorno 34    contagi  970740  morti   58244\n",
      "Giorno 35    contagi  1456110  morti   87367\n",
      "Giorno 36    contagi  2184164  morti   131050\n",
      "Giorno 37    contagi  3276247  morti   196575\n",
      "Giorno 38    contagi  4914370  morti   294862\n",
      "Giorno 39    contagi  7371555  morti   442293\n",
      "Giorno 40    contagi  11057332  morti   663440\n",
      "Giorno 41    contagi  16585998  morti   995160\n",
      "Giorno 42    contagi  24878998  morti   1492740\n",
      "Giorno 43    contagi  37318497  morti   2239110\n",
      "Giorno 44    contagi  55977745  morti   3358665\n",
      "Giorno 45    contagi  83966617  morti   5037997\n"
     ]
    }
   ],
   "source": [
    "p_italy = 60461827\n",
    "\n",
    "tassoFixGood = 1.5\n",
    "tassoFixMean = 2.5\n",
    "TassoFIxHigh = 3.5\n",
    "Death = 0.06\n",
    "\n",
    "\n",
    "giorni = 0\n",
    "contaggiati = 1\n",
    "\n",
    "while contaggiati <= p_italy:\n",
    "    new_contaggiatiVar = contaggiati*tassoFixGood\n",
    "    contaggiati = new_contaggiatiVar\n",
    "    morti = contaggiati*Death\n",
    "    giorni = giorni + 1\n",
    "    print(\"Giorno \" + str(giorni) + \"   \" +\" contagi  \" + str(round(contaggiati)) + \"  \" + \"morti   \" + str(round(morti)) )\n"
   ]
  },
  {
   "cell_type": "code",
   "execution_count": 3,
   "metadata": {},
   "outputs": [],
   "source": [
    "# Nota: l'ultima iterazione è quella che interrompe il ciclo poiché verifica la condizione del while (giorno 45); quindi si deve valutare il giorno 44"
   ]
  },
  {
   "cell_type": "markdown",
   "metadata": {},
   "source": [
    "# Scenario medio (tasso di contagio a 2.5) "
   ]
  },
  {
   "cell_type": "code",
   "execution_count": 4,
   "metadata": {},
   "outputs": [
    {
     "name": "stdout",
     "output_type": "stream",
     "text": [
      "Giorno 1    contagi  2.5  morti   0\n",
      "Giorno 2    contagi  6.25  morti   0\n",
      "Giorno 3    contagi  15.625  morti   1\n",
      "Giorno 4    contagi  39.0625  morti   2\n",
      "Giorno 5    contagi  97.65625  morti   6\n",
      "Giorno 6    contagi  244.140625  morti   15\n",
      "Giorno 7    contagi  610.3515625  morti   37\n",
      "Giorno 8    contagi  1525.87890625  morti   92\n",
      "Giorno 9    contagi  3814.697265625  morti   229\n",
      "Giorno 10    contagi  9536.7431640625  morti   572\n",
      "Giorno 11    contagi  23841.85791015625  morti   1431\n",
      "Giorno 12    contagi  59604.644775390625  morti   3576\n",
      "Giorno 13    contagi  149011.61193847656  morti   8941\n",
      "Giorno 14    contagi  372529.0298461914  morti   22352\n",
      "Giorno 15    contagi  931322.5746154785  morti   55879\n",
      "Giorno 16    contagi  2328306.4365386963  morti   139698\n",
      "Giorno 17    contagi  5820766.091346741  morti   349246\n",
      "Giorno 18    contagi  14551915.228366852  morti   873115\n",
      "Giorno 19    contagi  36379788.07091713  morti   2182787\n",
      "Giorno 20    contagi  90949470.17729282  morti   5456968\n"
     ]
    }
   ],
   "source": [
    "giorni = 0\n",
    "contaggiati = 1\n",
    "\n",
    "while contaggiati <= p_italy:\n",
    "    new_contaggiatiVar = contaggiati*tassoFixMean\n",
    "    contaggiati = new_contaggiatiVar\n",
    "    morti = contaggiati*Death\n",
    "    giorni = giorni + 1\n",
    "    print(\"Giorno \" + str(giorni) + \"   \" +\" contagi  \" + str(contaggiati) + \"  \" + \"morti   \" + str(round(morti)))\n"
   ]
  },
  {
   "cell_type": "markdown",
   "metadata": {},
   "source": [
    "# Scenario Pessimo (tasso al 3.5)"
   ]
  },
  {
   "cell_type": "code",
   "execution_count": 5,
   "metadata": {},
   "outputs": [
    {
     "name": "stdout",
     "output_type": "stream",
     "text": [
      "Giorno 1    contagi  3.5  morti   0\n",
      "Giorno 2    contagi  12.25  morti   1\n",
      "Giorno 3    contagi  42.875  morti   3\n",
      "Giorno 4    contagi  150.0625  morti   9\n",
      "Giorno 5    contagi  525.21875  morti   32\n",
      "Giorno 6    contagi  1838.265625  morti   110\n",
      "Giorno 7    contagi  6433.9296875  morti   386\n",
      "Giorno 8    contagi  22518.75390625  morti   1351\n",
      "Giorno 9    contagi  78815.638671875  morti   4729\n",
      "Giorno 10    contagi  275854.7353515625  morti   16551\n",
      "Giorno 11    contagi  965491.5737304688  morti   57929\n",
      "Giorno 12    contagi  3379220.5080566406  morti   202753\n",
      "Giorno 13    contagi  11827271.778198242  morti   709636\n",
      "Giorno 14    contagi  41395451.22369385  morti   2483727\n",
      "Giorno 15    contagi  144884079.28292847  morti   8693045\n"
     ]
    }
   ],
   "source": [
    "giorni = 0\n",
    "contaggiati = 1\n",
    "\n",
    "while contaggiati <= p_italy:\n",
    "    new_contaggiatiVar = contaggiati*TassoFIxHigh\n",
    "    contaggiati = new_contaggiatiVar\n",
    "    morti = contaggiati*Death\n",
    "    giorni = giorni + 1\n",
    "    print(\"Giorno \" + str(giorni) + \"   \" +\" contagi  \" + str(contaggiati) + \"  \" + \"morti   \" + str(round(morti)))\n"
   ]
  },
  {
   "cell_type": "markdown",
   "metadata": {},
   "source": [
    "N.B:\n",
    "\n",
    "I numeri parlano chiaro, se non si prende sul serio la quarantena ci contamineremo tutti.\n",
    "\n",
    "\n",
    "Un caro saluto\n",
    "\n",
    "Damiano Diquattro"
   ]
  },
  {
   "cell_type": "code",
   "execution_count": null,
   "metadata": {},
   "outputs": [],
   "source": []
  },
  {
   "cell_type": "code",
   "execution_count": null,
   "metadata": {},
   "outputs": [],
   "source": []
  }
 ],
 "metadata": {
  "kernelspec": {
   "display_name": "Python 3",
   "language": "python",
   "name": "python3"
  },
  "language_info": {
   "codemirror_mode": {
    "name": "ipython",
    "version": 3
   },
   "file_extension": ".py",
   "mimetype": "text/x-python",
   "name": "python",
   "nbconvert_exporter": "python",
   "pygments_lexer": "ipython3",
   "version": "3.6.9"
  }
 },
 "nbformat": 4,
 "nbformat_minor": 2
}
