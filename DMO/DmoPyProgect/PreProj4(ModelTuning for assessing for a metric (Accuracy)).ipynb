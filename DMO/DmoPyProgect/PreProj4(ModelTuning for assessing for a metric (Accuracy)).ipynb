{
 "cells": [
  {
   "cell_type": "code",
   "execution_count": 1,
   "metadata": {},
   "outputs": [
    {
     "data": {
      "text/plain": [
       "pandas.core.series.Series"
      ]
     },
     "execution_count": 1,
     "metadata": {},
     "output_type": "execute_result"
    }
   ],
   "source": [
    "#Import dei paccheti per pre-processing\n",
    "import pandas as pd\n",
    "import numpy as np\n",
    "from pandas_profiling import ProfileReport\n",
    "\n",
    "# Import dei pacchetti per modelli di MACHINE LEARNING\n",
    "from sklearn.tree import DecisionTreeClassifier\n",
    "from sklearn import tree\n",
    "from IPython.display import Image  \n",
    "\n",
    "#Import per il validation\n",
    "from sklearn.metrics import accuracy_score\n",
    "\n",
    "# Import dei pacchetti per i modelli statistici\n",
    "import statsmodels.api as sm\n",
    "import statsmodels.formula.api as smf\n",
    "\n",
    "\n",
    "#Import dataset:\n",
    "melbourne_file_path = '/home/dami/Progetti_unifi/DMO/Dataset/melb_data.csv'\n",
    "df = pd.read_csv(melbourne_file_path) \n",
    "del melbourne_file_path\n",
    "\n",
    "#Scelgo covariate e droppo i missing\n",
    "y = df.Type\n",
    "COVARIATE = ['Rooms', 'Bathroom', 'Landsize', 'Lattitude', 'Longtitude','Price']\n",
    "X = df[COVARIATE]\n",
    "type(X)\n",
    "\n",
    "df.dropna(axis=0)\n",
    "type(y)\n",
    "\n"
   ]
  },
  {
   "cell_type": "markdown",
   "metadata": {},
   "source": [
    "# Train Test Split"
   ]
  },
  {
   "cell_type": "code",
   "execution_count": 12,
   "metadata": {},
   "outputs": [
    {
     "data": {
      "text/plain": [
       "DecisionTreeClassifier(class_weight=None, criterion='gini', max_depth=4,\n",
       "                       max_features=None, max_leaf_nodes=None,\n",
       "                       min_impurity_decrease=0.0, min_impurity_split=None,\n",
       "                       min_samples_leaf=1, min_samples_split=2,\n",
       "                       min_weight_fraction_leaf=0.0, presort=False,\n",
       "                       random_state=None, splitter='best')"
      ]
     },
     "execution_count": 12,
     "metadata": {},
     "output_type": "execute_result"
    }
   ],
   "source": [
    "from sklearn.model_selection import train_test_split\n",
    "\n",
    "X_train, X_val, y_train, y_val = train_test_split(X,y, train_size=0.75, random_state = 0)\n",
    "df_model_tree = DecisionTreeClassifier(criterion = 'gini', max_depth = 4)\n",
    "df_model_tree"
   ]
  },
  {
   "cell_type": "markdown",
   "metadata": {},
   "source": [
    "# SINGLE MODEL WITH FIXED IPERPARMETER(max_depth=3)\n"
   ]
  },
  {
   "cell_type": "code",
   "execution_count": 20,
   "metadata": {},
   "outputs": [
    {
     "data": {
      "text/plain": [
       "0.8444771723122239"
      ]
     },
     "execution_count": 20,
     "metadata": {},
     "output_type": "execute_result"
    }
   ],
   "source": [
    "df_model_tree = DecisionTreeClassifier(criterion = 'gini', max_depth = 3)\n",
    "df_model_tree.fit(X_train, y_train)\n",
    "\n",
    "y_predicted = df_model_tree.predict(X_val)\n",
    "\n",
    "from sklearn.metrics import accuracy_score\n",
    "accuracy_score(y_val, y_predicted)"
   ]
  },
  {
   "cell_type": "markdown",
   "metadata": {},
   "source": [
    "# MODEL TUNING (asses iperparameter (max_depth)\n",
    "Controllo l'accuratezza del modello sul test set\n",
    "\n",
    "## TODO: vedi accuratezza sul train e confronta con 'accuratezza trovata nel test set\n"
   ]
  },
  {
   "cell_type": "code",
   "execution_count": 132,
   "metadata": {},
   "outputs": [],
   "source": [
    "# Definisco una funzione per depth per calcolare accuracy score + MAE + MSE"
   ]
  },
  {
   "cell_type": "code",
   "execution_count": 28,
   "metadata": {},
   "outputs": [],
   "source": [
    "def tune_depth_accuracy(depth, X_train, X_val, y_train, y_val):\n",
    "    model = df_model_tree = DecisionTreeClassifier(criterion = 'gini', max_depth = depth)\n",
    "    model.fit(X_train, y_train)\n",
    "    y_predicted = model.predict(X_val)\n",
    "    accuracy = accuracy_score(y_val, y_predicted)\n",
    "    return(accuracy)"
   ]
  },
  {
   "cell_type": "code",
   "execution_count": 30,
   "metadata": {},
   "outputs": [
    {
     "name": "stdout",
     "output_type": "stream",
     "text": [
      "0.8444771723122239\n"
     ]
    }
   ],
   "source": [
    "print(tune_depth_accuracy(3, X_train, X_val, y_train, y_val))"
   ]
  },
  {
   "cell_type": "code",
   "execution_count": 73,
   "metadata": {},
   "outputs": [
    {
     "name": "stdout",
     "output_type": "stream",
     "text": [
      "Accuracy per max_deapth = 1 è 0.8017673048600884\n",
      "Accuracy per max_deapth = 2 è 0.8017673048600884\n",
      "Accuracy per max_deapth = 3 è 0.8444771723122239\n",
      "Accuracy per max_deapth = 4 è 0.8465390279823269\n",
      "Accuracy per max_deapth = 5 è 0.851840942562592\n",
      "Accuracy per max_deapth = 6 è 0.8642120765832106\n",
      "Accuracy per max_deapth = 7 è 0.8742268041237113\n",
      "Accuracy per max_deapth = 8 è 0.8698085419734904\n",
      "Accuracy per max_deapth = 9 è 0.8656848306332843\n",
      "Accuracy per max_deapth = 10 è 0.8650957290132548\n",
      "Accuracy per max_deapth = 11 è 0.8606774668630339\n",
      "Accuracy per max_deapth = 12 è 0.8509572901325478\n",
      "Accuracy per max_deapth = 13 è 0.8527245949926362\n",
      "Accuracy per max_deapth = 14 è 0.8497790868924889\n"
     ]
    }
   ],
   "source": [
    "Score_result = []\n",
    "depth = range(1,15)\n",
    "for depth in depth:\n",
    "    Score_i = tune_depth_accuracy(depth, X_train, X_val, y_train, y_val)\n",
    "    print(\"Accuracy per max_deapth = \" + str(depth) + \" è \" + str(Score_i))\n",
    "    Score_result.append(Score_i)"
   ]
  },
  {
   "cell_type": "markdown",
   "metadata": {},
   "source": [
    "# Adesso ricerco l'arg_max di \"Score_result\" e da esso risalgo al \"depth\" corrispondente"
   ]
  },
  {
   "cell_type": "code",
   "execution_count": 130,
   "metadata": {},
   "outputs": [
    {
     "name": "stdout",
     "output_type": "stream",
     "text": [
      "0.8742268041237113\n",
      "7\n",
      "Lo score(accuracy) migliore è pari a 0.8742268041237113con iperparametro (depth) pari a 7\n"
     ]
    }
   ],
   "source": [
    "#cerco il valore massimo del vettore degli score\n",
    "arg_max_score = max(Score_result)\n",
    "arg_max_score_position = Score_result.index(massimo)\n",
    "print(arg_max_score)\n",
    "\n",
    "#creo il vettore con le depth\n",
    "depth = []\n",
    "for i in range(1,15):\n",
    "    depth.append(i)\n",
    "\n",
    "#cerco il valore depth corrispondete alla posizione dell'arg_max_score\n",
    "best_depth=depth[arg_max_score_position]\n",
    "print(best_depth)\n",
    "\n",
    "print(\"Lo score(accuracy) migliore è pari a \" + str(arg_max_score) + \"con iperparametro (depth) pari a \" + str(best_depth))"
   ]
  },
  {
   "cell_type": "markdown",
   "metadata": {},
   "source": [
    "CONCLUSIONE: \\\n",
    "L'iperparametro (altezza massima) da preferire, in quanto massimizza la metrica di interesse (Accuracy_score), è 7"
   ]
  },
  {
   "cell_type": "markdown",
   "metadata": {},
   "source": [
    "# PROVO A FARE IL GRAFICO (depth x Accuracy)"
   ]
  },
  {
   "cell_type": "code",
   "execution_count": 129,
   "metadata": {},
   "outputs": [
    {
     "data": {
      "image/png": "[encoded data removed]",
      "text/plain": [
       "<Figure size 432x288 with 1 Axes>"
      ]
     },
     "metadata": {
      "needs_background": "light"
     },
     "output_type": "display_data"
    }
   ],
   "source": [
    "import matplotlib.pyplot as plt\n",
    "import numpy as np\n",
    "\n",
    "plt.plot(depth,Score_result)\n",
    "plt.show()"
   ]
  }
 ],
 "metadata": {
  "kernelspec": {
   "display_name": "Python 3",
   "language": "python",
   "name": "python3"
  },
  "language_info": {
   "codemirror_mode": {
    "name": "ipython",
    "version": 3
   },
   "file_extension": ".py",
   "mimetype": "text/x-python",
   "name": "python",
   "nbconvert_exporter": "python",
   "pygments_lexer": "ipython3",
   "version": "3.6.9"
  }
 },
 "nbformat": 4,
 "nbformat_minor": 2
}
