{
 "cells": [
  {
   "cell_type": "markdown",
   "metadata": {},
   "source": [
    "Python è un linguaggio di scripting (non veloce come C o java) :\n",
    "-linguaggi compilati (sscrivi il programma (insieme di istrizioni, un compilatore lo trasforma, si trasforma in un eseguibile, e poi si lancia l'eseguibile. Il programma è già ottimizzato (mentre compila ottimizza il codice)\n",
    "-linguaggio intepretato (la riga di codice viene subito trasformata ed eseguito. I programmi delle banche. WEBCRAWLER (prendono le pagine e si prendono"
   ]
  },
  {
   "cell_type": "markdown",
   "metadata": {},
   "source": [
    "I costrutti del linguaggio (istruzione) sono sempre quelli\n",
    "If, while, ricorsione, for ecc\n",
    "\n",
    "PORTABILITà"
   ]
  },
  {
   "cell_type": "markdown",
   "metadata": {},
   "source": [
    "Immediate mode (premi invio e vedi risultato)\n",
    "\n",
    "Script mode (Svrivi un programma intero e poi si lancia tutto assieme)"
   ]
  },
  {
   "cell_type": "markdown",
   "metadata": {},
   "source": [
    "# Print di Stringa + intero"
   ]
  },
  {
   "cell_type": "code",
   "execution_count": 3,
   "metadata": {},
   "outputs": [
    {
     "name": "stdout",
     "output_type": "stream",
     "text": [
      "My first program adds two numbers, 2 and 3:\n",
      "5\n"
     ]
    }
   ],
   "source": [
    "print(\"My first program adds two numbers, 2 and 3:\")\n",
    "print(2 + 3)"
   ]
  },
  {
   "cell_type": "markdown",
   "metadata": {},
   "source": [
    "# TIPOLOGIE DI ERRORI E DEBUGGING:"
   ]
  },
  {
   "cell_type": "markdown",
   "metadata": {},
   "source": [
    "- errori di sintassi (errori di ortografia)\n",
    "- errori di esecuzione\n",
    "- errore semantico (calcola qualcosa ma non è ciò che dovrebbe fare\n",
    "\n",
    "I programmatori in media scrive 10 righe di codice buono al giorno\n",
    "La maggior parte del tempo finisce per fare attività di debunking\n",
    "\n",
    "\n",
    "Prima fai uno pseudocodice e dopo traduci in python\n"
   ]
  },
  {
   "cell_type": "markdown",
   "metadata": {},
   "source": [
    "# Hello world"
   ]
  },
  {
   "cell_type": "code",
   "execution_count": 5,
   "metadata": {},
   "outputs": [
    {
     "name": "stdout",
     "output_type": "stream",
     "text": [
      "Hello, World!\n"
     ]
    }
   ],
   "source": [
    "print(\"Hello, World!\")"
   ]
  },
  {
   "cell_type": "markdown",
   "metadata": {},
   "source": [
    "# I COMMENTI"
   ]
  },
  {
   "cell_type": "code",
   "execution_count": 6,
   "metadata": {},
   "outputs": [],
   "source": [
    "# Questo è un commento"
   ]
  },
  {
   "cell_type": "markdown",
   "metadata": {},
   "source": [
    "# Tipi di Dato  e Valori\n",
    "\n",
    "## Stringa: caratteri tra apici\n",
    "## Interi\n",
    "## float"
   ]
  },
  {
   "cell_type": "code",
   "execution_count": 19,
   "metadata": {},
   "outputs": [
    {
     "name": "stdout",
     "output_type": "stream",
     "text": [
      "<class 'str'>\n",
      "<class 'int'>\n",
      "<class 'float'>\n",
      "<class 'str'>\n",
      "ciao'\n"
     ]
    }
   ],
   "source": [
    "print(type(\"Hello, World!\"))  #stringa\n",
    "print(type(17)) #intero\n",
    "print(type(3.4)) # float = continua\n",
    "print(type(\"17\"))\n",
    "print(\"ciao'\")"
   ]
  },
  {
   "cell_type": "markdown",
   "metadata": {},
   "source": [
    "# LE VARIABILI CAMBIANO LO STATO DELLA MEMORIA \n",
    "è un bussoloto che ospita dei valori \\\\\n",
    "\n",
    "una cella di memoria al cui interno di mette una classe di valori \\\n",
    "\n",
    "le celle di memoria soni indicizzate da un indice esadecimale alla cella di memoria (attraverso il nome) \\\n",
    "\n",
    "asseganemnto = una certa variabile prende un certo valore ( un solo uguale si legge come prende \\\n",
    "l'assegnamento cambia lo stato della memoria\n",
    "\n",
    "L'ordine dei comandi è importante"
   ]
  },
  {
   "cell_type": "code",
   "execution_count": 20,
   "metadata": {},
   "outputs": [],
   "source": [
    "message = \"What's up, Doc?\"\n"
   ]
  },
  {
   "cell_type": "markdown",
   "metadata": {},
   "source": [
    "# LINGUAGGI TIPATI: prima di iniziare l'esecuzione io dichiaro tipo e numero delle variabili (linguaggio prolisso perchè bisogna specificare tutte le variabili all'inizio)\n",
    "\n",
    "# LINGUAGGI NON TIPATI: le variabili si possono sovrascrivere (attento alla probabilità)\n",
    "\n",
    "In python il rischio di fare errori è molto più alto (non tipato)"
   ]
  },
  {
   "cell_type": "code",
   "execution_count": 25,
   "metadata": {},
   "outputs": [
    {
     "name": "stdout",
     "output_type": "stream",
     "text": [
      "7\n",
      "34\n"
     ]
    }
   ],
   "source": [
    "temp = 3\n",
    "pippo = 4\n",
    "print(temp + pippo) # questaè una operazione tra interi\n",
    "\n",
    "temp = \"3\"\n",
    "pippo = \"4\"\n",
    "print(temp+pippo) #questa è una concatenazione di stringhe\n"
   ]
  },
  {
   "cell_type": "markdown",
   "metadata": {},
   "source": [
    "# DARE UN NOME ALLE VARIABILI:\n",
    "http://www.andreamarino.it/python/thinkcspy/SimplePythonData/VariableNamesandKeywords.html\n",
    "\n",
    "non usare if e for \\\n",
    "sul link ci sono le parole proibite"
   ]
  },
  {
   "cell_type": "markdown",
   "metadata": {},
   "source": [
    "# ISTRUZIONI (comando) E ESPRESSIONI (combinazione dei valori che resituisce)\n",
    "\n",
    "Le istruzioni sono ordini che io do al pc (ordine degli elementi della ricetta)\\\n",
    "Le espressioni sono combinazioni di valori tra loro che deve essere valutata (elementi della ricetta) \\\n",
    "\n",
    "## L'assegnamento è un ISTRUZIONE (per le variabili\n",
    "## Print(x) è un istruzione e x è un espressione\n",
    "\n",
    "len() prende una sequenza e ci dice quanto è lunga"
   ]
  },
  {
   "cell_type": "code",
   "execution_count": 27,
   "metadata": {},
   "outputs": [
    {
     "name": "stdout",
     "output_type": "stream",
     "text": [
      "2\n",
      "5\n"
     ]
    }
   ],
   "source": [
    "print(1+1)\n",
    "print(len(\"hello\")) #espressione=len(hello) , print()=istruzione"
   ]
  },
  {
   "cell_type": "markdown",
   "metadata": {},
   "source": [
    "# OPERATORI E OPERANDI"
   ]
  },
  {
   "cell_type": "code",
   "execution_count": 41,
   "metadata": {},
   "outputs": [
    {
     "name": "stdout",
     "output_type": "stream",
     "text": [
      "8\n",
      "1\n",
      "10\n",
      "45\n"
     ]
    },
    {
     "data": {
      "text/plain": [
       "'5'"
      ]
     },
     "execution_count": 41,
     "metadata": {},
     "output_type": "execute_result"
    }
   ],
   "source": [
    "print(2 ** 3)\n",
    "print(3//2)\n",
    "\n",
    "minutes = 645\n",
    "hours = minutes // 60\n",
    "print(hours)\n",
    "\n",
    "input(int(4))"
   ]
  },
  {
   "cell_type": "markdown",
   "metadata": {},
   "source": [
    "# Funzioni di conversioni\n",
    "Da intero a stringa"
   ]
  },
  {
   "cell_type": "code",
   "execution_count": 43,
   "metadata": {},
   "outputs": [
    {
     "name": "stdout",
     "output_type": "stream",
     "text": [
      "6\n",
      "222\n"
     ]
    }
   ],
   "source": [
    "x=\"2\"\n",
    "y=\"4\"\n",
    "\n",
    "print(int(x)+int(y))\n",
    "\n",
    "print(x*3)"
   ]
  },
  {
   "cell_type": "markdown",
   "metadata": {},
   "source": [
    "# Chiedere qualcosa all'utente (IMPUT):"
   ]
  },
  {
   "cell_type": "code",
   "execution_count": 49,
   "metadata": {},
   "outputs": [
    {
     "name": "stdout",
     "output_type": "stream",
     "text": [
      "COME TI CHIAMI BASTARDO? ciao\n",
      "il tuo nome è ciao\n"
     ]
    }
   ],
   "source": [
    "x = input(\"COME TI CHIAMI BASTARDO? \")\n",
    "print(\"il tuo nome è \" + x) # uso la concatenazione\n",
    "\n"
   ]
  },
  {
   "cell_type": "markdown",
   "metadata": {},
   "source": [
    "# Aggiornamento delle variabili:"
   ]
  },
  {
   "cell_type": "code",
   "execution_count": 53,
   "metadata": {},
   "outputs": [
    {
     "name": "stdout",
     "output_type": "stream",
     "text": [
      "5\n",
      "6\n"
     ]
    }
   ],
   "source": [
    "x = 5\n",
    "print(x)\n",
    "x = x +1 \n",
    "print(x)\n"
   ]
  },
  {
   "cell_type": "markdown",
   "metadata": {},
   "source": [
    "# COSE TRANE"
   ]
  },
  {
   "cell_type": "code",
   "execution_count": 56,
   "metadata": {},
   "outputs": [
    {
     "name": "stdout",
     "output_type": "stream",
     "text": [
      "5 5\n",
      "3 5\n"
     ]
    }
   ],
   "source": [
    "A = 5\n",
    "B = A\n",
    "print(A,B)\n",
    "\n",
    "A=3\n",
    "print(A,B)"
   ]
  }
 ],
 "metadata": {
  "kernelspec": {
   "display_name": "Python 3",
   "language": "python",
   "name": "python3"
  },
  "language_info": {
   "codemirror_mode": {
    "name": "ipython",
    "version": 3
   },
   "file_extension": ".py",
   "mimetype": "text/x-python",
   "name": "python",
   "nbconvert_exporter": "python",
   "pygments_lexer": "ipython3",
   "version": "3.6.9"
  }
 },
 "nbformat": 4,
 "nbformat_minor": 2
}
