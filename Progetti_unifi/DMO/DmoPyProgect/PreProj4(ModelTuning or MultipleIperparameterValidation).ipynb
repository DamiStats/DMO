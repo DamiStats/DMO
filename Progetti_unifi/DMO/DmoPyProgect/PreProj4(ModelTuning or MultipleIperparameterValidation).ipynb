{
 "cells": [
  {
   "cell_type": "code",
   "execution_count": 1,
   "metadata": {},
   "outputs": [
    {
     "data": {
      "text/plain": [
       "pandas.core.series.Series"
      ]
     },
     "execution_count": 1,
     "metadata": {},
     "output_type": "execute_result"
    }
   ],
   "source": [
    "#Import dei paccheti per pre-processing\n",
    "import pandas as pd\n",
    "import numpy as np\n",
    "from pandas_profiling import ProfileReport\n",
    "\n",
    "# Import dei pacchetti per modelli di MACHINE LEARNING\n",
    "from sklearn.tree import DecisionTreeClassifier\n",
    "from sklearn import tree\n",
    "from IPython.display import Image  \n",
    "\n",
    "#Import per il validation\n",
    "from sklearn.metrics import accuracy_score\n",
    "\n",
    "# Import dei pacchetti per i modelli statistici\n",
    "import statsmodels.api as sm\n",
    "import statsmodels.formula.api as smf\n",
    "\n",
    "\n",
    "#Import dataset:\n",
    "melbourne_file_path = '/home/dami/Progetti_unifi/DMO/Dataset/melb_data.csv'\n",
    "df = pd.read_csv(melbourne_file_path) \n",
    "del melbourne_file_path\n",
    "\n",
    "#Scelgo covariate e droppo i missing\n",
    "y = df.Type\n",
    "COVARIATE = ['Rooms', 'Bathroom', 'Landsize', 'Lattitude', 'Longtitude','Price']\n",
    "X = df[COVARIATE]\n",
    "type(X)\n",
    "\n",
    "df.dropna(axis=0)\n",
    "type(y)\n",
    "\n"
   ]
  },
  {
   "cell_type": "markdown",
   "metadata": {},
   "source": []
  }
 ],
 "metadata": {
  "kernelspec": {
   "display_name": "Python 3",
   "language": "python",
   "name": "python3"
  },
  "language_info": {
   "codemirror_mode": {
    "name": "ipython",
    "version": 3
   },
   "file_extension": ".py",
   "mimetype": "text/x-python",
   "name": "python",
   "nbconvert_exporter": "python",
   "pygments_lexer": "ipython3",
   "version": "3.6.9"
  }
 },
 "nbformat": 4,
 "nbformat_minor": 2
}
