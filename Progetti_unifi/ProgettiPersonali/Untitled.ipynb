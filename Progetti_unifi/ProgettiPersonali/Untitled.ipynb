{
 "cells": [
  {
   "cell_type": "code",
   "execution_count": 84,
   "metadata": {},
   "outputs": [],
   "source": [
    "\n",
    "successione = [1,1]\n",
    "def fibonacci(x):\n",
    "    step1 = 1\n",
    "    step2 = 1\n",
    "    if x <=1 and x>=0:\n",
    "        return(1)\n",
    "    else:\n",
    "        for i in range(1, x-1):\n",
    "            step1 = step2           \n",
    "            step3 = step1+step2\n",
    "            step2 = step3\n",
    "        return(step3)"
   ]
  },
  {
   "cell_type": "code",
   "execution_count": 111,
   "metadata": {},
   "outputs": [],
   "source": [
    "def fibonacci(x):\n",
    "    if x == 0:\n",
    "        return(0)\n",
    "    if x <= 2:\n",
    "        return(1)\n",
    "    else:\n",
    "        a = 1\n",
    "        b = 1\n",
    "        for i in range(2, x):\n",
    "            c = a + b\n",
    "            a = b\n",
    "            b = c\n",
    "        return(c)          \n",
    "            "
   ]
  },
  {
   "cell_type": "code",
   "execution_count": 113,
   "metadata": {},
   "outputs": [
    {
     "name": "stdout",
     "output_type": "stream",
     "text": [
      "[0, 1, 1, 2, 3, 5, 8, 13, 21, 34, 55, 89, 144, 233, 377, 610, 987, 1597, 2584, 4181, 6765, 10946]\n"
     ]
    }
   ],
   "source": [
    "fibonacci(4)\n",
    "puppa = []\n",
    "for i in range(22):\n",
    "    puppa.append(fibonacci(i))\n",
    "print(puppa)"
   ]
  },
  {
   "cell_type": "code",
   "execution_count": 110,
   "metadata": {},
   "outputs": [
    {
     "name": "stdout",
     "output_type": "stream",
     "text": [
      "2\n"
     ]
    }
   ],
   "source": [
    "for i in range(2,3):\n",
    "    print(i)"
   ]
  }
 ],
 "metadata": {
  "kernelspec": {
   "display_name": "Python 3",
   "language": "python",
   "name": "python3"
  },
  "language_info": {
   "codemirror_mode": {
    "name": "ipython",
    "version": 3
   },
   "file_extension": ".py",
   "mimetype": "text/x-python",
   "name": "python",
   "nbconvert_exporter": "python",
   "pygments_lexer": "ipython3",
   "version": "3.6.9"
  }
 },
 "nbformat": 4,
 "nbformat_minor": 2
}
